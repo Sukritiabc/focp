{
 "cells": [
  {
   "cell_type": "markdown",
   "id": "f752ab6a",
   "metadata": {},
   "source": [
    "### task 1"
   ]
  },
  {
   "cell_type": "code",
   "execution_count": 1,
   "id": "a46f9dde",
   "metadata": {},
   "outputs": [
    {
     "data": {
      "text/plain": [
       "True"
      ]
     },
     "execution_count": 1,
     "metadata": {},
     "output_type": "execute_result"
    }
   ],
   "source": [
    "10 < 100 "
   ]
  },
  {
   "cell_type": "code",
   "execution_count": 2,
   "id": "7da100b4",
   "metadata": {},
   "outputs": [
    {
     "data": {
      "text/plain": [
       "False"
      ]
     },
     "execution_count": 2,
     "metadata": {},
     "output_type": "execute_result"
    }
   ],
   "source": [
    "100 != 100"
   ]
  },
  {
   "cell_type": "code",
   "execution_count": 3,
   "id": "34209c16",
   "metadata": {},
   "outputs": [
    {
     "data": {
      "text/plain": [
       "True"
      ]
     },
     "execution_count": 3,
     "metadata": {},
     "output_type": "execute_result"
    }
   ],
   "source": [
    "50 >= 50 "
   ]
  },
  {
   "cell_type": "markdown",
   "id": "dcc833a8",
   "metadata": {},
   "source": [
    "### task 2"
   ]
  },
  {
   "cell_type": "markdown",
   "id": "e66ab84d",
   "metadata": {},
   "source": []
  },
  {
   "cell_type": "code",
   "execution_count": 11,
   "id": "272772be",
   "metadata": {},
   "outputs": [
    {
     "name": "stdout",
     "output_type": "stream",
     "text": [
      "Is the age under 18?:False\n",
      "Is the age under 21?: False\n",
      "Is the age under 31?: True\n"
     ]
    }
   ],
   "source": [
    "age = 21  \n",
    "\n",
    "is_under_18 = age < 18\n",
    "is_under_21 = age < 21\n",
    "is_under_31 = age < 31\n",
    "\n",
    "print(f\"Is the age under 18?:{is_under_18}\")\n",
    "print(f\"Is the age under 21?: {is_under_21}\")\n",
    "print(f\"Is the age under 31?: {is_under_31}\")\n",
    "    "
   ]
  },
  {
   "cell_type": "markdown",
   "id": "a939a4b5",
   "metadata": {},
   "source": [
    "### task 3"
   ]
  },
  {
   "cell_type": "code",
   "execution_count": 5,
   "id": "281f2583",
   "metadata": {},
   "outputs": [
    {
     "data": {
      "text/plain": [
       "True"
      ]
     },
     "execution_count": 5,
     "metadata": {},
     "output_type": "execute_result"
    }
   ],
   "source": [
    "\"a\"<\"b\""
   ]
  },
  {
   "cell_type": "code",
   "execution_count": 6,
   "id": "15f47f28",
   "metadata": {},
   "outputs": [
    {
     "data": {
      "text/plain": [
       "False"
      ]
     },
     "execution_count": 6,
     "metadata": {},
     "output_type": "execute_result"
    }
   ],
   "source": [
    "\"b\"<\"a\""
   ]
  },
  {
   "cell_type": "code",
   "execution_count": 7,
   "id": "43f44908",
   "metadata": {},
   "outputs": [
    {
     "data": {
      "text/plain": [
       "True"
      ]
     },
     "execution_count": 7,
     "metadata": {},
     "output_type": "execute_result"
    }
   ],
   "source": [
    "\"John\"<\"Terry\""
   ]
  },
  {
   "cell_type": "code",
   "execution_count": 8,
   "id": "8d0bbe85",
   "metadata": {},
   "outputs": [
    {
     "data": {
      "text/plain": [
       "False"
      ]
     },
     "execution_count": 8,
     "metadata": {},
     "output_type": "execute_result"
    }
   ],
   "source": [
    "\"john\"<\"Terry\""
   ]
  },
  {
   "cell_type": "code",
   "execution_count": 9,
   "id": "1f8816c2",
   "metadata": {},
   "outputs": [
    {
     "data": {
      "text/plain": [
       "False"
      ]
     },
     "execution_count": 9,
     "metadata": {},
     "output_type": "execute_result"
    }
   ],
   "source": [
    "[1,2,3]<[1,2,3]"
   ]
  },
  {
   "cell_type": "code",
   "execution_count": 10,
   "id": "0b53238d",
   "metadata": {},
   "outputs": [
    {
     "data": {
      "text/plain": [
       "True"
      ]
     },
     "execution_count": 10,
     "metadata": {},
     "output_type": "execute_result"
    }
   ],
   "source": [
    "[1,2,2]<[1,2,3]"
   ]
  },
  {
   "cell_type": "code",
   "execution_count": null,
   "id": "92594d00",
   "metadata": {},
   "outputs": [],
   "source": []
  },
  {
   "cell_type": "markdown",
   "id": "0805af84",
   "metadata": {},
   "source": [
    "### task 4"
   ]
  },
  {
   "cell_type": "code",
   "execution_count": 12,
   "id": "2257acbf",
   "metadata": {},
   "outputs": [
    {
     "data": {
      "text/plain": [
       "True"
      ]
     },
     "execution_count": 12,
     "metadata": {},
     "output_type": "execute_result"
    }
   ],
   "source": [
    "5<10.2"
   ]
  },
  {
   "cell_type": "code",
   "execution_count": 13,
   "id": "01a4a3a6",
   "metadata": {},
   "outputs": [
    {
     "ename": "TypeError",
     "evalue": "'<' not supported between instances of 'int' and 'str'",
     "output_type": "error",
     "traceback": [
      "\u001b[1;31m---------------------------------------------------------------------------\u001b[0m",
      "\u001b[1;31mTypeError\u001b[0m                                 Traceback (most recent call last)",
      "Cell \u001b[1;32mIn[13], line 1\u001b[0m\n\u001b[1;32m----> 1\u001b[0m \u001b[38;5;241;43m5\u001b[39;49m\u001b[38;5;241;43m<\u001b[39;49m\u001b[38;5;124;43m\"\u001b[39;49m\u001b[38;5;124;43mMonty\u001b[39;49m\u001b[38;5;124;43m\"\u001b[39;49m\n",
      "\u001b[1;31mTypeError\u001b[0m: '<' not supported between instances of 'int' and 'str'"
     ]
    }
   ],
   "source": [
    "5<\"Monty\""
   ]
  },
  {
   "cell_type": "code",
   "execution_count": 14,
   "id": "3e148e10",
   "metadata": {},
   "outputs": [
    {
     "ename": "TypeError",
     "evalue": "'<' not supported between instances of 'int' and 'str'",
     "output_type": "error",
     "traceback": [
      "\u001b[1;31m---------------------------------------------------------------------------\u001b[0m",
      "\u001b[1;31mTypeError\u001b[0m                                 Traceback (most recent call last)",
      "Cell \u001b[1;32mIn[14], line 1\u001b[0m\n\u001b[1;32m----> 1\u001b[0m \u001b[38;5;241;43m5\u001b[39;49m\u001b[38;5;241;43m<\u001b[39;49m\u001b[38;5;124;43m\"\u001b[39;49m\u001b[38;5;124;43m5\u001b[39;49m\u001b[38;5;124;43m\"\u001b[39;49m\n",
      "\u001b[1;31mTypeError\u001b[0m: '<' not supported between instances of 'int' and 'str'"
     ]
    }
   ],
   "source": [
    "5<\"5\""
   ]
  },
  {
   "cell_type": "code",
   "execution_count": 15,
   "id": "3c02ce5a",
   "metadata": {},
   "outputs": [
    {
     "data": {
      "text/plain": [
       "False"
      ]
     },
     "execution_count": 15,
     "metadata": {},
     "output_type": "execute_result"
    }
   ],
   "source": [
    "5==\"5\""
   ]
  },
  {
   "cell_type": "markdown",
   "id": "96cd545c",
   "metadata": {},
   "source": [
    "### task5"
   ]
  },
  {
   "cell_type": "code",
   "execution_count": 16,
   "id": "02a72e0b",
   "metadata": {},
   "outputs": [
    {
     "name": "stdout",
     "output_type": "stream",
     "text": [
      "Enter your age: 19\n"
     ]
    },
    {
     "data": {
      "text/plain": [
       "False"
      ]
     },
     "execution_count": 16,
     "metadata": {},
     "output_type": "execute_result"
    }
   ],
   "source": [
    "age=input(\"Enter your age: \")\n",
    "18==age"
   ]
  },
  {
   "cell_type": "code",
   "execution_count": 17,
   "id": "3fef629e",
   "metadata": {},
   "outputs": [
    {
     "data": {
      "text/plain": [
       "False"
      ]
     },
     "execution_count": 17,
     "metadata": {},
     "output_type": "execute_result"
    }
   ],
   "source": [
    "age=30\n",
    "age>=18 and age<=65\n",
    "age<18 or age>65\n",
    "not age>18"
   ]
  },
  {
   "cell_type": "code",
   "execution_count": 18,
   "id": "f08a3dc2",
   "metadata": {},
   "outputs": [
    {
     "data": {
      "text/plain": [
       "False"
      ]
     },
     "execution_count": 18,
     "metadata": {},
     "output_type": "execute_result"
    }
   ],
   "source": [
    "age= 30\n",
    "(age >=18 and age <=65 )and (not age== 30)"
   ]
  },
  {
   "cell_type": "markdown",
   "id": "deb6aab1",
   "metadata": {},
   "source": [
    "### task 6"
   ]
  },
  {
   "cell_type": "code",
   "execution_count": 19,
   "id": "ee523cca",
   "metadata": {},
   "outputs": [
    {
     "ename": "NameError",
     "evalue": "name 'weight' is not defined",
     "output_type": "error",
     "traceback": [
      "\u001b[1;31m---------------------------------------------------------------------------\u001b[0m",
      "\u001b[1;31mNameError\u001b[0m                                 Traceback (most recent call last)",
      "Cell \u001b[1;32mIn[19], line 1\u001b[0m\n\u001b[1;32m----> 1\u001b[0m weight_check \u001b[38;5;241m=\u001b[39m \u001b[38;5;241m100\u001b[39m \u001b[38;5;241m<\u001b[39m \u001b[43mweight\u001b[49m \u001b[38;5;241m<\u001b[39m \u001b[38;5;241m200\u001b[39m\n\u001b[0;32m      2\u001b[0m height_check \u001b[38;5;241m=\u001b[39m \u001b[38;5;241m131\u001b[39m \u001b[38;5;241m<\u001b[39m height \u001b[38;5;241m<\u001b[39m \u001b[38;5;241m160\u001b[39m\n\u001b[0;32m      4\u001b[0m \u001b[38;5;28mprint\u001b[39m(weight_check)\n",
      "\u001b[1;31mNameError\u001b[0m: name 'weight' is not defined"
     ]
    }
   ],
   "source": [
    "weight_check = 100 < weight < 200\n",
    "height_check = 131 < height < 160\n",
    "\n",
    "print(weight_check)\n",
    "print(height_check)"
   ]
  },
  {
   "cell_type": "markdown",
   "id": "a6981790",
   "metadata": {},
   "source": [
    "### task 7"
   ]
  },
  {
   "cell_type": "code",
   "execution_count": 20,
   "id": "2b160bc7",
   "metadata": {},
   "outputs": [
    {
     "data": {
      "text/plain": [
       "False"
      ]
     },
     "execution_count": 20,
     "metadata": {},
     "output_type": "execute_result"
    }
   ],
   "source": [
    "names = [\"Terry\", \"John\", \"Michael\", \"Eric\", \"Terry\", \"Graham\"]\n",
    "\"jane\" in names"
   ]
  },
  {
   "cell_type": "code",
   "execution_count": 21,
   "id": "9c7b27b3",
   "metadata": {},
   "outputs": [
    {
     "data": {
      "text/plain": [
       "True"
      ]
     },
     "execution_count": 21,
     "metadata": {},
     "output_type": "execute_result"
    }
   ],
   "source": [
    "names = [\"Terry\", \"John\", \"Michael\", \"Eric\", \"Terry\", \"Graham\"]\n",
    "\"Mark\" not in names"
   ]
  },
  {
   "cell_type": "code",
   "execution_count": 22,
   "id": "e8c19891",
   "metadata": {},
   "outputs": [
    {
     "data": {
      "text/plain": [
       "False"
      ]
     },
     "execution_count": 22,
     "metadata": {},
     "output_type": "execute_result"
    }
   ],
   "source": [
    "message = \"Hello there, my name is John\"\n",
    "\"xyz\" in message"
   ]
  },
  {
   "cell_type": "markdown",
   "id": "972c4408",
   "metadata": {},
   "source": [
    "### task 8"
   ]
  },
  {
   "cell_type": "code",
   "execution_count": 23,
   "id": "c290ccf6",
   "metadata": {},
   "outputs": [
    {
     "name": "stdout",
     "output_type": "stream",
     "text": [
      "You are still young!\n"
     ]
    }
   ],
   "source": [
    "age = 21\n",
    "if 18<= age <= 30:\n",
    "    print(\"You are still young!\")\n",
    "else:\n",
    "    print(\"You are not in the age range of 18 to 30.\")"
   ]
  },
  {
   "cell_type": "markdown",
   "id": "7b49beea",
   "metadata": {},
   "source": [
    "### task 9"
   ]
  },
  {
   "cell_type": "code",
   "execution_count": 24,
   "id": "56f50f91",
   "metadata": {},
   "outputs": [
    {
     "name": "stdout",
     "output_type": "stream",
     "text": [
      "You are in your thirties.\n",
      "Enjoy this phase of your life.\n"
     ]
    }
   ],
   "source": [
    "age = 35\n",
    "\n",
    "if age > 100:\n",
    "    print(\"You are very old.\")\n",
    "    print(\"Well done!\")\n",
    "elif age > 80:\n",
    "    print(\"You are fairly old.\")\n",
    "    print(\"Pretty good!\")\n",
    "elif age > 40:\n",
    "    print(\"You are middle-aged.\")\n",
    "    print(\"Never mind.\")\n",
    "elif 30 <= age <= 40:\n",
    "    print(\"You are in your thirties.\")\n",
    "    print(\"Enjoy this phase of your life.\")\n",
    "else:\n",
    "    print(\"You are not very old - yet.\")"
   ]
  },
  {
   "cell_type": "markdown",
   "id": "72f204c6",
   "metadata": {},
   "source": [
    "### task 10"
   ]
  },
  {
   "cell_type": "code",
   "execution_count": 25,
   "id": "794652ac",
   "metadata": {},
   "outputs": [
    {
     "name": "stdout",
     "output_type": "stream",
     "text": [
      "Total is non-zero\n"
     ]
    }
   ],
   "source": [
    "total = 42  \n",
    "if total != 0:\n",
    "    print(\"Total is non-zero\")\n",
    "else:\n",
    "    print(\"Total is zero\")"
   ]
  },
  {
   "cell_type": "markdown",
   "id": "1fc2a95a",
   "metadata": {},
   "source": [
    "### task 11"
   ]
  },
  {
   "cell_type": "code",
   "execution_count": 26,
   "id": "23fc8564",
   "metadata": {},
   "outputs": [
    {
     "name": "stdout",
     "output_type": "stream",
     "text": [
      "You are an adult\n"
     ]
    }
   ],
   "source": [
    "print(\"You are an adult\") if age >= 18 else print(\"You are not an adult, yet!\")"
   ]
  },
  {
   "cell_type": "markdown",
   "id": "27ed75ab",
   "metadata": {},
   "source": [
    "### task 12"
   ]
  },
  {
   "cell_type": "code",
   "execution_count": 27,
   "id": "0ce6a682",
   "metadata": {
    "scrolled": true
   },
   "outputs": [
    {
     "name": "stdout",
     "output_type": "stream",
     "text": [
      "Alice\n",
      "Bob\n",
      "Charlie\n",
      "David\n"
     ]
    }
   ],
   "source": [
    "names = [\"Alice\", \"Bob\", \"Charlie\", \"David\"]\n",
    "\n",
    "for name in names:\n",
    "    print(name)"
   ]
  },
  {
   "cell_type": "markdown",
   "id": "3f72beda",
   "metadata": {},
   "source": [
    "### task 13"
   ]
  },
  {
   "cell_type": "code",
   "execution_count": 28,
   "id": "dedc56d7",
   "metadata": {},
   "outputs": [
    {
     "name": "stdout",
     "output_type": "stream",
     "text": [
      "2 to the power of 2 = 4\n",
      "4 to the power of 4 = 256\n",
      "6 to the power of 6 = 46656\n",
      "8 to the power of 8 = 16777216\n",
      "10 to the power of 10 = 10000000000\n"
     ]
    }
   ],
   "source": [
    "for i in range(2, 11, 2):  \n",
    "    result = i ** i\n",
    "    print(f\"{i} to the power of {i} = {result}\")"
   ]
  },
  {
   "cell_type": "markdown",
   "id": "540ed565",
   "metadata": {},
   "source": [
    "### task 14"
   ]
  },
  {
   "cell_type": "code",
   "execution_count": 29,
   "id": "0a4b8bb9",
   "metadata": {},
   "outputs": [
    {
     "name": "stdout",
     "output_type": "stream",
     "text": [
      "Current running total: 10\n",
      "Current running total: 30\n",
      "Current running total: 60\n",
      "Current running total: 150\n",
      "Current running total: 350\n",
      "Current running total: 380\n",
      "Current running total: 402\n",
      "Current running total: 413\n"
     ]
    }
   ],
   "source": [
    "numbers = [10, 20, 30, 90, 200, 30, 22, 11]\n",
    "\n",
    "running_total = 0\n",
    "\n",
    "for num in numbers:\n",
    "    running_total += num\n",
    "    print(f\"Current running total: {running_total}\")"
   ]
  },
  {
   "cell_type": "markdown",
   "id": "dc31e9d1",
   "metadata": {},
   "source": [
    "### task 15"
   ]
  },
  {
   "cell_type": "code",
   "execution_count": 30,
   "id": "880998ea",
   "metadata": {},
   "outputs": [
    {
     "name": "stdout",
     "output_type": "stream",
     "text": [
      "Current running total: 10\n",
      "Current running total: 30\n",
      "Current running total: 60\n",
      "Current running total: 150\n",
      "Current running total: 350\n",
      "Breaking the loop because 200 is over 100.\n"
     ]
    }
   ],
   "source": [
    " numbers = [10, 20, 30, 90, 200, 30, 22, 11]\n",
    " \n",
    " running_total = 0\n",
    "\n",
    "for num in numbers:\n",
    "    running_total += num\n",
    "    print(f\"Current running total: {running_total}\")\n",
    "\n",
    "    if num > 100:\n",
    "        print(f\"Breaking the loop because {num} is over 100.\")\n",
    "        break"
   ]
  },
  {
   "cell_type": "markdown",
   "id": "f6658989",
   "metadata": {},
   "source": [
    "### task 16"
   ]
  },
  {
   "cell_type": "code",
   "execution_count": 31,
   "id": "d1d8f561",
   "metadata": {},
   "outputs": [
    {
     "name": "stdout",
     "output_type": "stream",
     "text": [
      "Current running total: 10\n",
      "Current running total: 30\n",
      "Current running total: 60\n",
      "Current running total: 150\n",
      "Current running total: 350\n",
      "Breaking the loop because 200 is over 100.\n"
     ]
    }
   ],
   "source": [
    "numbers = [10, 20, 30, 90, 200, 30, 22, 11]\n",
    "\n",
    "running_total = 0\n",
    "\n",
    "for num in numbers:\n",
    "    running_total += num\n",
    "    print(f\"Current running total: {running_total}\")\n",
    "\n",
    "    if num > 100:\n",
    "        print(f\"Breaking the loop because {num} is over 100.\")\n",
    "        break\n",
    "else:\n",
    "    print(\"All numbers processed\")"
   ]
  },
  {
   "cell_type": "code",
   "execution_count": null,
   "id": "b112b871",
   "metadata": {},
   "outputs": [],
   "source": []
  }
 ],
 "metadata": {
  "kernelspec": {
   "display_name": "Python 3 (ipykernel)",
   "language": "python",
   "name": "python3"
  },
  "language_info": {
   "codemirror_mode": {
    "name": "ipython",
    "version": 3
   },
   "file_extension": ".py",
   "mimetype": "text/x-python",
   "name": "python",
   "nbconvert_exporter": "python",
   "pygments_lexer": "ipython3",
   "version": "3.10.9"
  }
 },
 "nbformat": 4,
 "nbformat_minor": 5
}
